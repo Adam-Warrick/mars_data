{
 "cells": [
  {
   "cell_type": "code",
   "execution_count": 1,
   "id": "25568b69",
   "metadata": {},
   "outputs": [],
   "source": [
    "from splinter import Browser\n",
    "from bs4 import BeautifulSoup as soup\n",
    "import pandas as pd"
   ]
  },
  {
   "cell_type": "code",
   "execution_count": 4,
   "id": "75688365",
   "metadata": {},
   "outputs": [],
   "source": [
    "browser = Browser('chrome', headless=False)\n",
    "\n",
    "# Visit the Mars NASA news site\n",
    "url = 'https://redplanetscience.com'\n",
    "browser.visit(url)\n",
    "# Optional delay for loading the page\n",
    "browser.is_element_present_by_css('div.list_text', wait_time=1)\n",
    "\n",
    "html = browser.html\n",
    "\n",
    "soup = soup(html, 'html.parser')\n"
   ]
  },
  {
   "cell_type": "code",
   "execution_count": 5,
   "id": "304a72f7",
   "metadata": {},
   "outputs": [
    {
     "name": "stdout",
     "output_type": "stream",
     "text": [
      "[<div class=\"content_title\">3 Things We've Learned From NASA's Mars InSight </div>, <div class=\"content_title\">Space History Is Made in This NASA Robot Factory</div>, <div class=\"content_title\">NASA Updates Mars 2020 Mission Environmental Review</div>, <div class=\"content_title\">The MarCO Mission Comes to an End</div>, <div class=\"content_title\">NASA's MAVEN Maps Winds in the Martian Upper Atmosphere that Mirror the Terrain Below and Gives Clues to Martian Climate</div>, <div class=\"content_title\">NASA to Hold Mars 2020 Perseverance Rover Launch Briefing</div>, <div class=\"content_title\">InSight's 'Mole' Team Peers into the Pit</div>, <div class=\"content_title\">Nine Finalists Chosen in NASA's Mars 2020 Rover Naming Contest</div>, <div class=\"content_title\">5 Hidden Gems Are Riding Aboard NASA's Perseverance Rover</div>, <div class=\"content_title\">Mars InSight Lander to Push on Top of the 'Mole'</div>, <div class=\"content_title\">MOXIE Could Help Future Rockets Launch Off Mars</div>, <div class=\"content_title\">NASA Mars Mission Connects With Bosnian and Herzegovinian Town</div>, <div class=\"content_title\">NASA's Mars 2020 Rover Completes Its First Drive</div>, <div class=\"content_title\">NASA Readies Perseverance Mars Rover's Earthly Twin </div>, <div class=\"content_title\">7 Things to Know About the Mars 2020 Perseverance Rover Mission</div>]\n"
     ]
    }
   ],
   "source": [
    "all_titles = soup.find_all('div', class_='content_title')\n",
    "\n",
    "print(all_titles)"
   ]
  },
  {
   "cell_type": "code",
   "execution_count": 7,
   "id": "54da3489",
   "metadata": {},
   "outputs": [
    {
     "name": "stdout",
     "output_type": "stream",
     "text": [
      "[<div class=\"article_teaser_body\">Scientists are finding new mysteries since the geophysics mission landed two years ago.</div>, <div class=\"article_teaser_body\">From rockets to rovers, JPL's Spacecraft Assembly Facility has been at the center of robotic spaceflight. Here's a closer look at what makes it so special.</div>, <div class=\"article_teaser_body\">NASA and the Department of Energy have completed a more detailed risk analysis for the Mars 2020 rover launch from Florida.</div>, <div class=\"article_teaser_body\">The pair of briefcase-sized satellites made history when they sailed past Mars in 2019.</div>, <div class=\"article_teaser_body\">Researchers have created the first map of wind circulation in the upper atmosphere of a planet besides Earth, using data from NASA’s MAVEN spacecraft that were collected during the last two years.</div>, <div class=\"article_teaser_body\">Learn more about the agency's next Red Planet mission during a live event on June 17.</div>, <div class=\"article_teaser_body\">Efforts to save the heat probe continue.</div>, <div class=\"article_teaser_body\">Nine finalists have been chosen in the essay contest for K-12 students across U.S. to name NASA's next Mars rover. Now you can help by voting for your favorite. </div>, <div class=\"article_teaser_body\">The symbols, mottos, and small objects added to the agency's newest Mars rover serve a variety of purposes, from functional to decorative.</div>, <div class=\"article_teaser_body\">Engineers have a plan for pushing down on the heat probe, which has been stuck at the Martian surface for a year.</div>, <div class=\"article_teaser_body\">NASA's Perseverance rover carries a device to convert Martian air into oxygen that, if produced on a larger scale, could be used not just for breathing, but also for fuel.</div>, <div class=\"article_teaser_body\">A letter from NASA was presented to the mayor of Jezero, Bosnia-Herzegovina, honoring the connection between the town and Jezero Crater, the Mars 2020 rover landing site.</div>, <div class=\"article_teaser_body\">In a 10-plus-hour marathon, the rover steered, turned and drove in 3-foot (1-meter) increments over small ramps.</div>, <div class=\"article_teaser_body\">Did you know NASA's next Mars rover has a nearly identical sibling on Earth for testing? Even better, it's about to roll for the first time through a replica Martian landscape.</div>, <div class=\"article_teaser_body\">NASA's next rover to the Red Planet is slated to launch no earlier than July 30. These highlights will get you up to speed on the ambitious mission.</div>]\n"
     ]
    }
   ],
   "source": [
    "all_previews = soup.find_all('div', class_='article_teaser_body')\n",
    "\n",
    "print(all_previews)"
   ]
  },
  {
   "cell_type": "code",
   "execution_count": 12,
   "id": "464e48ef",
   "metadata": {},
   "outputs": [
    {
     "data": {
      "text/plain": [
       "[\"3 Things We've Learned From NASA's Mars InSight \",\n",
       " 'Space History Is Made in This NASA Robot Factory',\n",
       " 'NASA Updates Mars 2020 Mission Environmental Review',\n",
       " 'The MarCO Mission Comes to an End',\n",
       " \"NASA's MAVEN Maps Winds in the Martian Upper Atmosphere that Mirror the Terrain Below and Gives Clues to Martian Climate\",\n",
       " 'NASA to Hold Mars 2020 Perseverance Rover Launch Briefing',\n",
       " \"InSight's 'Mole' Team Peers into the Pit\",\n",
       " \"Nine Finalists Chosen in NASA's Mars 2020 Rover Naming Contest\",\n",
       " \"5 Hidden Gems Are Riding Aboard NASA's Perseverance Rover\",\n",
       " \"Mars InSight Lander to Push on Top of the 'Mole'\",\n",
       " 'MOXIE Could Help Future Rockets Launch Off Mars',\n",
       " 'NASA Mars Mission Connects With Bosnian and Herzegovinian Town',\n",
       " \"NASA's Mars 2020 Rover Completes Its First Drive\",\n",
       " \"NASA Readies Perseverance Mars Rover's Earthly Twin \",\n",
       " '7 Things to Know About the Mars 2020 Perseverance Rover Mission']"
      ]
     },
     "execution_count": 12,
     "metadata": {},
     "output_type": "execute_result"
    }
   ],
   "source": [
    "titles =[title.text for title in all_titles]\n",
    "\n",
    "titles"
   ]
  },
  {
   "cell_type": "code",
   "execution_count": 9,
   "id": "90d1e86a",
   "metadata": {},
   "outputs": [
    {
     "data": {
      "text/plain": [
       "['Scientists are finding new mysteries since the geophysics mission landed two years ago.',\n",
       " \"From rockets to rovers, JPL's Spacecraft Assembly Facility has been at the center of robotic spaceflight. Here's a closer look at what makes it so special.\",\n",
       " 'NASA and the Department of Energy have completed a more detailed risk analysis for the Mars 2020 rover launch from Florida.',\n",
       " 'The pair of briefcase-sized satellites made history when they sailed past Mars in 2019.',\n",
       " 'Researchers have created the first map of wind circulation in the upper atmosphere of a planet besides Earth, using data from NASA’s MAVEN spacecraft that were collected during the last two years.',\n",
       " \"Learn more about the agency's next Red Planet mission during a live event on June 17.\",\n",
       " 'Efforts to save the heat probe continue.',\n",
       " \"Nine finalists have been chosen in the essay contest for K-12 students across U.S. to name NASA's next Mars rover. Now you can help by voting for your favorite. \",\n",
       " \"The symbols, mottos, and small objects added to the agency's newest Mars rover serve a variety of purposes, from functional to decorative.\",\n",
       " 'Engineers have a plan for pushing down on the heat probe, which has been stuck at the Martian surface for a year.',\n",
       " \"NASA's Perseverance rover carries a device to convert Martian air into oxygen that, if produced on a larger scale, could be used not just for breathing, but also for fuel.\",\n",
       " 'A letter from NASA was presented to the mayor of Jezero, Bosnia-Herzegovina, honoring the connection between the town and Jezero Crater, the Mars 2020 rover landing site.',\n",
       " 'In a 10-plus-hour marathon, the rover steered, turned and drove in 3-foot (1-meter) increments over small ramps.',\n",
       " \"Did you know NASA's next Mars rover has a nearly identical sibling on Earth for testing? Even better, it's about to roll for the first time through a replica Martian landscape.\",\n",
       " \"NASA's next rover to the Red Planet is slated to launch no earlier than July 30. These highlights will get you up to speed on the ambitious mission.\"]"
      ]
     },
     "execution_count": 9,
     "metadata": {},
     "output_type": "execute_result"
    }
   ],
   "source": [
    "previews =[preview.text for preview in all_previews]\n",
    "\n",
    "previews"
   ]
  },
  {
   "cell_type": "code",
   "execution_count": 11,
   "id": "51aa810e",
   "metadata": {},
   "outputs": [
    {
     "name": "stdout",
     "output_type": "stream",
     "text": [
      "[{'title': <div class=\"content_title\">3 Things We've Learned From NASA's Mars InSight </div>, 'preview': <div class=\"article_teaser_body\">Scientists are finding new mysteries since the geophysics mission landed two years ago.</div>}]\n",
      "[{'title': <div class=\"content_title\">3 Things We've Learned From NASA's Mars InSight </div>, 'preview': <div class=\"article_teaser_body\">Scientists are finding new mysteries since the geophysics mission landed two years ago.</div>}, {'title': <div class=\"content_title\">Space History Is Made in This NASA Robot Factory</div>, 'preview': <div class=\"article_teaser_body\">From rockets to rovers, JPL's Spacecraft Assembly Facility has been at the center of robotic spaceflight. Here's a closer look at what makes it so special.</div>}]\n",
      "[{'title': <div class=\"content_title\">3 Things We've Learned From NASA's Mars InSight </div>, 'preview': <div class=\"article_teaser_body\">Scientists are finding new mysteries since the geophysics mission landed two years ago.</div>}, {'title': <div class=\"content_title\">Space History Is Made in This NASA Robot Factory</div>, 'preview': <div class=\"article_teaser_body\">From rockets to rovers, JPL's Spacecraft Assembly Facility has been at the center of robotic spaceflight. Here's a closer look at what makes it so special.</div>}, {'title': <div class=\"content_title\">NASA Updates Mars 2020 Mission Environmental Review</div>, 'preview': <div class=\"article_teaser_body\">NASA and the Department of Energy have completed a more detailed risk analysis for the Mars 2020 rover launch from Florida.</div>}]\n",
      "[{'title': <div class=\"content_title\">3 Things We've Learned From NASA's Mars InSight </div>, 'preview': <div class=\"article_teaser_body\">Scientists are finding new mysteries since the geophysics mission landed two years ago.</div>}, {'title': <div class=\"content_title\">Space History Is Made in This NASA Robot Factory</div>, 'preview': <div class=\"article_teaser_body\">From rockets to rovers, JPL's Spacecraft Assembly Facility has been at the center of robotic spaceflight. Here's a closer look at what makes it so special.</div>}, {'title': <div class=\"content_title\">NASA Updates Mars 2020 Mission Environmental Review</div>, 'preview': <div class=\"article_teaser_body\">NASA and the Department of Energy have completed a more detailed risk analysis for the Mars 2020 rover launch from Florida.</div>}, {'title': <div class=\"content_title\">The MarCO Mission Comes to an End</div>, 'preview': <div class=\"article_teaser_body\">The pair of briefcase-sized satellites made history when they sailed past Mars in 2019.</div>}]\n",
      "[{'title': <div class=\"content_title\">3 Things We've Learned From NASA's Mars InSight </div>, 'preview': <div class=\"article_teaser_body\">Scientists are finding new mysteries since the geophysics mission landed two years ago.</div>}, {'title': <div class=\"content_title\">Space History Is Made in This NASA Robot Factory</div>, 'preview': <div class=\"article_teaser_body\">From rockets to rovers, JPL's Spacecraft Assembly Facility has been at the center of robotic spaceflight. Here's a closer look at what makes it so special.</div>}, {'title': <div class=\"content_title\">NASA Updates Mars 2020 Mission Environmental Review</div>, 'preview': <div class=\"article_teaser_body\">NASA and the Department of Energy have completed a more detailed risk analysis for the Mars 2020 rover launch from Florida.</div>}, {'title': <div class=\"content_title\">The MarCO Mission Comes to an End</div>, 'preview': <div class=\"article_teaser_body\">The pair of briefcase-sized satellites made history when they sailed past Mars in 2019.</div>}, {'title': <div class=\"content_title\">NASA's MAVEN Maps Winds in the Martian Upper Atmosphere that Mirror the Terrain Below and Gives Clues to Martian Climate</div>, 'preview': <div class=\"article_teaser_body\">Researchers have created the first map of wind circulation in the upper atmosphere of a planet besides Earth, using data from NASA’s MAVEN spacecraft that were collected during the last two years.</div>}]\n",
      "[{'title': <div class=\"content_title\">3 Things We've Learned From NASA's Mars InSight </div>, 'preview': <div class=\"article_teaser_body\">Scientists are finding new mysteries since the geophysics mission landed two years ago.</div>}, {'title': <div class=\"content_title\">Space History Is Made in This NASA Robot Factory</div>, 'preview': <div class=\"article_teaser_body\">From rockets to rovers, JPL's Spacecraft Assembly Facility has been at the center of robotic spaceflight. Here's a closer look at what makes it so special.</div>}, {'title': <div class=\"content_title\">NASA Updates Mars 2020 Mission Environmental Review</div>, 'preview': <div class=\"article_teaser_body\">NASA and the Department of Energy have completed a more detailed risk analysis for the Mars 2020 rover launch from Florida.</div>}, {'title': <div class=\"content_title\">The MarCO Mission Comes to an End</div>, 'preview': <div class=\"article_teaser_body\">The pair of briefcase-sized satellites made history when they sailed past Mars in 2019.</div>}, {'title': <div class=\"content_title\">NASA's MAVEN Maps Winds in the Martian Upper Atmosphere that Mirror the Terrain Below and Gives Clues to Martian Climate</div>, 'preview': <div class=\"article_teaser_body\">Researchers have created the first map of wind circulation in the upper atmosphere of a planet besides Earth, using data from NASA’s MAVEN spacecraft that were collected during the last two years.</div>}, {'title': <div class=\"content_title\">NASA to Hold Mars 2020 Perseverance Rover Launch Briefing</div>, 'preview': <div class=\"article_teaser_body\">Learn more about the agency's next Red Planet mission during a live event on June 17.</div>}]\n",
      "[{'title': <div class=\"content_title\">3 Things We've Learned From NASA's Mars InSight </div>, 'preview': <div class=\"article_teaser_body\">Scientists are finding new mysteries since the geophysics mission landed two years ago.</div>}, {'title': <div class=\"content_title\">Space History Is Made in This NASA Robot Factory</div>, 'preview': <div class=\"article_teaser_body\">From rockets to rovers, JPL's Spacecraft Assembly Facility has been at the center of robotic spaceflight. Here's a closer look at what makes it so special.</div>}, {'title': <div class=\"content_title\">NASA Updates Mars 2020 Mission Environmental Review</div>, 'preview': <div class=\"article_teaser_body\">NASA and the Department of Energy have completed a more detailed risk analysis for the Mars 2020 rover launch from Florida.</div>}, {'title': <div class=\"content_title\">The MarCO Mission Comes to an End</div>, 'preview': <div class=\"article_teaser_body\">The pair of briefcase-sized satellites made history when they sailed past Mars in 2019.</div>}, {'title': <div class=\"content_title\">NASA's MAVEN Maps Winds in the Martian Upper Atmosphere that Mirror the Terrain Below and Gives Clues to Martian Climate</div>, 'preview': <div class=\"article_teaser_body\">Researchers have created the first map of wind circulation in the upper atmosphere of a planet besides Earth, using data from NASA’s MAVEN spacecraft that were collected during the last two years.</div>}, {'title': <div class=\"content_title\">NASA to Hold Mars 2020 Perseverance Rover Launch Briefing</div>, 'preview': <div class=\"article_teaser_body\">Learn more about the agency's next Red Planet mission during a live event on June 17.</div>}, {'title': <div class=\"content_title\">InSight's 'Mole' Team Peers into the Pit</div>, 'preview': <div class=\"article_teaser_body\">Efforts to save the heat probe continue.</div>}]\n",
      "[{'title': <div class=\"content_title\">3 Things We've Learned From NASA's Mars InSight </div>, 'preview': <div class=\"article_teaser_body\">Scientists are finding new mysteries since the geophysics mission landed two years ago.</div>}, {'title': <div class=\"content_title\">Space History Is Made in This NASA Robot Factory</div>, 'preview': <div class=\"article_teaser_body\">From rockets to rovers, JPL's Spacecraft Assembly Facility has been at the center of robotic spaceflight. Here's a closer look at what makes it so special.</div>}, {'title': <div class=\"content_title\">NASA Updates Mars 2020 Mission Environmental Review</div>, 'preview': <div class=\"article_teaser_body\">NASA and the Department of Energy have completed a more detailed risk analysis for the Mars 2020 rover launch from Florida.</div>}, {'title': <div class=\"content_title\">The MarCO Mission Comes to an End</div>, 'preview': <div class=\"article_teaser_body\">The pair of briefcase-sized satellites made history when they sailed past Mars in 2019.</div>}, {'title': <div class=\"content_title\">NASA's MAVEN Maps Winds in the Martian Upper Atmosphere that Mirror the Terrain Below and Gives Clues to Martian Climate</div>, 'preview': <div class=\"article_teaser_body\">Researchers have created the first map of wind circulation in the upper atmosphere of a planet besides Earth, using data from NASA’s MAVEN spacecraft that were collected during the last two years.</div>}, {'title': <div class=\"content_title\">NASA to Hold Mars 2020 Perseverance Rover Launch Briefing</div>, 'preview': <div class=\"article_teaser_body\">Learn more about the agency's next Red Planet mission during a live event on June 17.</div>}, {'title': <div class=\"content_title\">InSight's 'Mole' Team Peers into the Pit</div>, 'preview': <div class=\"article_teaser_body\">Efforts to save the heat probe continue.</div>}, {'title': <div class=\"content_title\">Nine Finalists Chosen in NASA's Mars 2020 Rover Naming Contest</div>, 'preview': <div class=\"article_teaser_body\">Nine finalists have been chosen in the essay contest for K-12 students across U.S. to name NASA's next Mars rover. Now you can help by voting for your favorite. </div>}]\n",
      "[{'title': <div class=\"content_title\">3 Things We've Learned From NASA's Mars InSight </div>, 'preview': <div class=\"article_teaser_body\">Scientists are finding new mysteries since the geophysics mission landed two years ago.</div>}, {'title': <div class=\"content_title\">Space History Is Made in This NASA Robot Factory</div>, 'preview': <div class=\"article_teaser_body\">From rockets to rovers, JPL's Spacecraft Assembly Facility has been at the center of robotic spaceflight. Here's a closer look at what makes it so special.</div>}, {'title': <div class=\"content_title\">NASA Updates Mars 2020 Mission Environmental Review</div>, 'preview': <div class=\"article_teaser_body\">NASA and the Department of Energy have completed a more detailed risk analysis for the Mars 2020 rover launch from Florida.</div>}, {'title': <div class=\"content_title\">The MarCO Mission Comes to an End</div>, 'preview': <div class=\"article_teaser_body\">The pair of briefcase-sized satellites made history when they sailed past Mars in 2019.</div>}, {'title': <div class=\"content_title\">NASA's MAVEN Maps Winds in the Martian Upper Atmosphere that Mirror the Terrain Below and Gives Clues to Martian Climate</div>, 'preview': <div class=\"article_teaser_body\">Researchers have created the first map of wind circulation in the upper atmosphere of a planet besides Earth, using data from NASA’s MAVEN spacecraft that were collected during the last two years.</div>}, {'title': <div class=\"content_title\">NASA to Hold Mars 2020 Perseverance Rover Launch Briefing</div>, 'preview': <div class=\"article_teaser_body\">Learn more about the agency's next Red Planet mission during a live event on June 17.</div>}, {'title': <div class=\"content_title\">InSight's 'Mole' Team Peers into the Pit</div>, 'preview': <div class=\"article_teaser_body\">Efforts to save the heat probe continue.</div>}, {'title': <div class=\"content_title\">Nine Finalists Chosen in NASA's Mars 2020 Rover Naming Contest</div>, 'preview': <div class=\"article_teaser_body\">Nine finalists have been chosen in the essay contest for K-12 students across U.S. to name NASA's next Mars rover. Now you can help by voting for your favorite. </div>}, {'title': <div class=\"content_title\">5 Hidden Gems Are Riding Aboard NASA's Perseverance Rover</div>, 'preview': <div class=\"article_teaser_body\">The symbols, mottos, and small objects added to the agency's newest Mars rover serve a variety of purposes, from functional to decorative.</div>}]\n",
      "[{'title': <div class=\"content_title\">3 Things We've Learned From NASA's Mars InSight </div>, 'preview': <div class=\"article_teaser_body\">Scientists are finding new mysteries since the geophysics mission landed two years ago.</div>}, {'title': <div class=\"content_title\">Space History Is Made in This NASA Robot Factory</div>, 'preview': <div class=\"article_teaser_body\">From rockets to rovers, JPL's Spacecraft Assembly Facility has been at the center of robotic spaceflight. Here's a closer look at what makes it so special.</div>}, {'title': <div class=\"content_title\">NASA Updates Mars 2020 Mission Environmental Review</div>, 'preview': <div class=\"article_teaser_body\">NASA and the Department of Energy have completed a more detailed risk analysis for the Mars 2020 rover launch from Florida.</div>}, {'title': <div class=\"content_title\">The MarCO Mission Comes to an End</div>, 'preview': <div class=\"article_teaser_body\">The pair of briefcase-sized satellites made history when they sailed past Mars in 2019.</div>}, {'title': <div class=\"content_title\">NASA's MAVEN Maps Winds in the Martian Upper Atmosphere that Mirror the Terrain Below and Gives Clues to Martian Climate</div>, 'preview': <div class=\"article_teaser_body\">Researchers have created the first map of wind circulation in the upper atmosphere of a planet besides Earth, using data from NASA’s MAVEN spacecraft that were collected during the last two years.</div>}, {'title': <div class=\"content_title\">NASA to Hold Mars 2020 Perseverance Rover Launch Briefing</div>, 'preview': <div class=\"article_teaser_body\">Learn more about the agency's next Red Planet mission during a live event on June 17.</div>}, {'title': <div class=\"content_title\">InSight's 'Mole' Team Peers into the Pit</div>, 'preview': <div class=\"article_teaser_body\">Efforts to save the heat probe continue.</div>}, {'title': <div class=\"content_title\">Nine Finalists Chosen in NASA's Mars 2020 Rover Naming Contest</div>, 'preview': <div class=\"article_teaser_body\">Nine finalists have been chosen in the essay contest for K-12 students across U.S. to name NASA's next Mars rover. Now you can help by voting for your favorite. </div>}, {'title': <div class=\"content_title\">5 Hidden Gems Are Riding Aboard NASA's Perseverance Rover</div>, 'preview': <div class=\"article_teaser_body\">The symbols, mottos, and small objects added to the agency's newest Mars rover serve a variety of purposes, from functional to decorative.</div>}, {'title': <div class=\"content_title\">Mars InSight Lander to Push on Top of the 'Mole'</div>, 'preview': <div class=\"article_teaser_body\">Engineers have a plan for pushing down on the heat probe, which has been stuck at the Martian surface for a year.</div>}]\n",
      "[{'title': <div class=\"content_title\">3 Things We've Learned From NASA's Mars InSight </div>, 'preview': <div class=\"article_teaser_body\">Scientists are finding new mysteries since the geophysics mission landed two years ago.</div>}, {'title': <div class=\"content_title\">Space History Is Made in This NASA Robot Factory</div>, 'preview': <div class=\"article_teaser_body\">From rockets to rovers, JPL's Spacecraft Assembly Facility has been at the center of robotic spaceflight. Here's a closer look at what makes it so special.</div>}, {'title': <div class=\"content_title\">NASA Updates Mars 2020 Mission Environmental Review</div>, 'preview': <div class=\"article_teaser_body\">NASA and the Department of Energy have completed a more detailed risk analysis for the Mars 2020 rover launch from Florida.</div>}, {'title': <div class=\"content_title\">The MarCO Mission Comes to an End</div>, 'preview': <div class=\"article_teaser_body\">The pair of briefcase-sized satellites made history when they sailed past Mars in 2019.</div>}, {'title': <div class=\"content_title\">NASA's MAVEN Maps Winds in the Martian Upper Atmosphere that Mirror the Terrain Below and Gives Clues to Martian Climate</div>, 'preview': <div class=\"article_teaser_body\">Researchers have created the first map of wind circulation in the upper atmosphere of a planet besides Earth, using data from NASA’s MAVEN spacecraft that were collected during the last two years.</div>}, {'title': <div class=\"content_title\">NASA to Hold Mars 2020 Perseverance Rover Launch Briefing</div>, 'preview': <div class=\"article_teaser_body\">Learn more about the agency's next Red Planet mission during a live event on June 17.</div>}, {'title': <div class=\"content_title\">InSight's 'Mole' Team Peers into the Pit</div>, 'preview': <div class=\"article_teaser_body\">Efforts to save the heat probe continue.</div>}, {'title': <div class=\"content_title\">Nine Finalists Chosen in NASA's Mars 2020 Rover Naming Contest</div>, 'preview': <div class=\"article_teaser_body\">Nine finalists have been chosen in the essay contest for K-12 students across U.S. to name NASA's next Mars rover. Now you can help by voting for your favorite. </div>}, {'title': <div class=\"content_title\">5 Hidden Gems Are Riding Aboard NASA's Perseverance Rover</div>, 'preview': <div class=\"article_teaser_body\">The symbols, mottos, and small objects added to the agency's newest Mars rover serve a variety of purposes, from functional to decorative.</div>}, {'title': <div class=\"content_title\">Mars InSight Lander to Push on Top of the 'Mole'</div>, 'preview': <div class=\"article_teaser_body\">Engineers have a plan for pushing down on the heat probe, which has been stuck at the Martian surface for a year.</div>}, {'title': <div class=\"content_title\">MOXIE Could Help Future Rockets Launch Off Mars</div>, 'preview': <div class=\"article_teaser_body\">NASA's Perseverance rover carries a device to convert Martian air into oxygen that, if produced on a larger scale, could be used not just for breathing, but also for fuel.</div>}]\n",
      "[{'title': <div class=\"content_title\">3 Things We've Learned From NASA's Mars InSight </div>, 'preview': <div class=\"article_teaser_body\">Scientists are finding new mysteries since the geophysics mission landed two years ago.</div>}, {'title': <div class=\"content_title\">Space History Is Made in This NASA Robot Factory</div>, 'preview': <div class=\"article_teaser_body\">From rockets to rovers, JPL's Spacecraft Assembly Facility has been at the center of robotic spaceflight. Here's a closer look at what makes it so special.</div>}, {'title': <div class=\"content_title\">NASA Updates Mars 2020 Mission Environmental Review</div>, 'preview': <div class=\"article_teaser_body\">NASA and the Department of Energy have completed a more detailed risk analysis for the Mars 2020 rover launch from Florida.</div>}, {'title': <div class=\"content_title\">The MarCO Mission Comes to an End</div>, 'preview': <div class=\"article_teaser_body\">The pair of briefcase-sized satellites made history when they sailed past Mars in 2019.</div>}, {'title': <div class=\"content_title\">NASA's MAVEN Maps Winds in the Martian Upper Atmosphere that Mirror the Terrain Below and Gives Clues to Martian Climate</div>, 'preview': <div class=\"article_teaser_body\">Researchers have created the first map of wind circulation in the upper atmosphere of a planet besides Earth, using data from NASA’s MAVEN spacecraft that were collected during the last two years.</div>}, {'title': <div class=\"content_title\">NASA to Hold Mars 2020 Perseverance Rover Launch Briefing</div>, 'preview': <div class=\"article_teaser_body\">Learn more about the agency's next Red Planet mission during a live event on June 17.</div>}, {'title': <div class=\"content_title\">InSight's 'Mole' Team Peers into the Pit</div>, 'preview': <div class=\"article_teaser_body\">Efforts to save the heat probe continue.</div>}, {'title': <div class=\"content_title\">Nine Finalists Chosen in NASA's Mars 2020 Rover Naming Contest</div>, 'preview': <div class=\"article_teaser_body\">Nine finalists have been chosen in the essay contest for K-12 students across U.S. to name NASA's next Mars rover. Now you can help by voting for your favorite. </div>}, {'title': <div class=\"content_title\">5 Hidden Gems Are Riding Aboard NASA's Perseverance Rover</div>, 'preview': <div class=\"article_teaser_body\">The symbols, mottos, and small objects added to the agency's newest Mars rover serve a variety of purposes, from functional to decorative.</div>}, {'title': <div class=\"content_title\">Mars InSight Lander to Push on Top of the 'Mole'</div>, 'preview': <div class=\"article_teaser_body\">Engineers have a plan for pushing down on the heat probe, which has been stuck at the Martian surface for a year.</div>}, {'title': <div class=\"content_title\">MOXIE Could Help Future Rockets Launch Off Mars</div>, 'preview': <div class=\"article_teaser_body\">NASA's Perseverance rover carries a device to convert Martian air into oxygen that, if produced on a larger scale, could be used not just for breathing, but also for fuel.</div>}, {'title': <div class=\"content_title\">NASA Mars Mission Connects With Bosnian and Herzegovinian Town</div>, 'preview': <div class=\"article_teaser_body\">A letter from NASA was presented to the mayor of Jezero, Bosnia-Herzegovina, honoring the connection between the town and Jezero Crater, the Mars 2020 rover landing site.</div>}]\n",
      "[{'title': <div class=\"content_title\">3 Things We've Learned From NASA's Mars InSight </div>, 'preview': <div class=\"article_teaser_body\">Scientists are finding new mysteries since the geophysics mission landed two years ago.</div>}, {'title': <div class=\"content_title\">Space History Is Made in This NASA Robot Factory</div>, 'preview': <div class=\"article_teaser_body\">From rockets to rovers, JPL's Spacecraft Assembly Facility has been at the center of robotic spaceflight. Here's a closer look at what makes it so special.</div>}, {'title': <div class=\"content_title\">NASA Updates Mars 2020 Mission Environmental Review</div>, 'preview': <div class=\"article_teaser_body\">NASA and the Department of Energy have completed a more detailed risk analysis for the Mars 2020 rover launch from Florida.</div>}, {'title': <div class=\"content_title\">The MarCO Mission Comes to an End</div>, 'preview': <div class=\"article_teaser_body\">The pair of briefcase-sized satellites made history when they sailed past Mars in 2019.</div>}, {'title': <div class=\"content_title\">NASA's MAVEN Maps Winds in the Martian Upper Atmosphere that Mirror the Terrain Below and Gives Clues to Martian Climate</div>, 'preview': <div class=\"article_teaser_body\">Researchers have created the first map of wind circulation in the upper atmosphere of a planet besides Earth, using data from NASA’s MAVEN spacecraft that were collected during the last two years.</div>}, {'title': <div class=\"content_title\">NASA to Hold Mars 2020 Perseverance Rover Launch Briefing</div>, 'preview': <div class=\"article_teaser_body\">Learn more about the agency's next Red Planet mission during a live event on June 17.</div>}, {'title': <div class=\"content_title\">InSight's 'Mole' Team Peers into the Pit</div>, 'preview': <div class=\"article_teaser_body\">Efforts to save the heat probe continue.</div>}, {'title': <div class=\"content_title\">Nine Finalists Chosen in NASA's Mars 2020 Rover Naming Contest</div>, 'preview': <div class=\"article_teaser_body\">Nine finalists have been chosen in the essay contest for K-12 students across U.S. to name NASA's next Mars rover. Now you can help by voting for your favorite. </div>}, {'title': <div class=\"content_title\">5 Hidden Gems Are Riding Aboard NASA's Perseverance Rover</div>, 'preview': <div class=\"article_teaser_body\">The symbols, mottos, and small objects added to the agency's newest Mars rover serve a variety of purposes, from functional to decorative.</div>}, {'title': <div class=\"content_title\">Mars InSight Lander to Push on Top of the 'Mole'</div>, 'preview': <div class=\"article_teaser_body\">Engineers have a plan for pushing down on the heat probe, which has been stuck at the Martian surface for a year.</div>}, {'title': <div class=\"content_title\">MOXIE Could Help Future Rockets Launch Off Mars</div>, 'preview': <div class=\"article_teaser_body\">NASA's Perseverance rover carries a device to convert Martian air into oxygen that, if produced on a larger scale, could be used not just for breathing, but also for fuel.</div>}, {'title': <div class=\"content_title\">NASA Mars Mission Connects With Bosnian and Herzegovinian Town</div>, 'preview': <div class=\"article_teaser_body\">A letter from NASA was presented to the mayor of Jezero, Bosnia-Herzegovina, honoring the connection between the town and Jezero Crater, the Mars 2020 rover landing site.</div>}, {'title': <div class=\"content_title\">NASA's Mars 2020 Rover Completes Its First Drive</div>, 'preview': <div class=\"article_teaser_body\">In a 10-plus-hour marathon, the rover steered, turned and drove in 3-foot (1-meter) increments over small ramps.</div>}]\n",
      "[{'title': <div class=\"content_title\">3 Things We've Learned From NASA's Mars InSight </div>, 'preview': <div class=\"article_teaser_body\">Scientists are finding new mysteries since the geophysics mission landed two years ago.</div>}, {'title': <div class=\"content_title\">Space History Is Made in This NASA Robot Factory</div>, 'preview': <div class=\"article_teaser_body\">From rockets to rovers, JPL's Spacecraft Assembly Facility has been at the center of robotic spaceflight. Here's a closer look at what makes it so special.</div>}, {'title': <div class=\"content_title\">NASA Updates Mars 2020 Mission Environmental Review</div>, 'preview': <div class=\"article_teaser_body\">NASA and the Department of Energy have completed a more detailed risk analysis for the Mars 2020 rover launch from Florida.</div>}, {'title': <div class=\"content_title\">The MarCO Mission Comes to an End</div>, 'preview': <div class=\"article_teaser_body\">The pair of briefcase-sized satellites made history when they sailed past Mars in 2019.</div>}, {'title': <div class=\"content_title\">NASA's MAVEN Maps Winds in the Martian Upper Atmosphere that Mirror the Terrain Below and Gives Clues to Martian Climate</div>, 'preview': <div class=\"article_teaser_body\">Researchers have created the first map of wind circulation in the upper atmosphere of a planet besides Earth, using data from NASA’s MAVEN spacecraft that were collected during the last two years.</div>}, {'title': <div class=\"content_title\">NASA to Hold Mars 2020 Perseverance Rover Launch Briefing</div>, 'preview': <div class=\"article_teaser_body\">Learn more about the agency's next Red Planet mission during a live event on June 17.</div>}, {'title': <div class=\"content_title\">InSight's 'Mole' Team Peers into the Pit</div>, 'preview': <div class=\"article_teaser_body\">Efforts to save the heat probe continue.</div>}, {'title': <div class=\"content_title\">Nine Finalists Chosen in NASA's Mars 2020 Rover Naming Contest</div>, 'preview': <div class=\"article_teaser_body\">Nine finalists have been chosen in the essay contest for K-12 students across U.S. to name NASA's next Mars rover. Now you can help by voting for your favorite. </div>}, {'title': <div class=\"content_title\">5 Hidden Gems Are Riding Aboard NASA's Perseverance Rover</div>, 'preview': <div class=\"article_teaser_body\">The symbols, mottos, and small objects added to the agency's newest Mars rover serve a variety of purposes, from functional to decorative.</div>}, {'title': <div class=\"content_title\">Mars InSight Lander to Push on Top of the 'Mole'</div>, 'preview': <div class=\"article_teaser_body\">Engineers have a plan for pushing down on the heat probe, which has been stuck at the Martian surface for a year.</div>}, {'title': <div class=\"content_title\">MOXIE Could Help Future Rockets Launch Off Mars</div>, 'preview': <div class=\"article_teaser_body\">NASA's Perseverance rover carries a device to convert Martian air into oxygen that, if produced on a larger scale, could be used not just for breathing, but also for fuel.</div>}, {'title': <div class=\"content_title\">NASA Mars Mission Connects With Bosnian and Herzegovinian Town</div>, 'preview': <div class=\"article_teaser_body\">A letter from NASA was presented to the mayor of Jezero, Bosnia-Herzegovina, honoring the connection between the town and Jezero Crater, the Mars 2020 rover landing site.</div>}, {'title': <div class=\"content_title\">NASA's Mars 2020 Rover Completes Its First Drive</div>, 'preview': <div class=\"article_teaser_body\">In a 10-plus-hour marathon, the rover steered, turned and drove in 3-foot (1-meter) increments over small ramps.</div>}, {'title': <div class=\"content_title\">NASA Readies Perseverance Mars Rover's Earthly Twin </div>, 'preview': <div class=\"article_teaser_body\">Did you know NASA's next Mars rover has a nearly identical sibling on Earth for testing? Even better, it's about to roll for the first time through a replica Martian landscape.</div>}]\n",
      "[{'title': <div class=\"content_title\">3 Things We've Learned From NASA's Mars InSight </div>, 'preview': <div class=\"article_teaser_body\">Scientists are finding new mysteries since the geophysics mission landed two years ago.</div>}, {'title': <div class=\"content_title\">Space History Is Made in This NASA Robot Factory</div>, 'preview': <div class=\"article_teaser_body\">From rockets to rovers, JPL's Spacecraft Assembly Facility has been at the center of robotic spaceflight. Here's a closer look at what makes it so special.</div>}, {'title': <div class=\"content_title\">NASA Updates Mars 2020 Mission Environmental Review</div>, 'preview': <div class=\"article_teaser_body\">NASA and the Department of Energy have completed a more detailed risk analysis for the Mars 2020 rover launch from Florida.</div>}, {'title': <div class=\"content_title\">The MarCO Mission Comes to an End</div>, 'preview': <div class=\"article_teaser_body\">The pair of briefcase-sized satellites made history when they sailed past Mars in 2019.</div>}, {'title': <div class=\"content_title\">NASA's MAVEN Maps Winds in the Martian Upper Atmosphere that Mirror the Terrain Below and Gives Clues to Martian Climate</div>, 'preview': <div class=\"article_teaser_body\">Researchers have created the first map of wind circulation in the upper atmosphere of a planet besides Earth, using data from NASA’s MAVEN spacecraft that were collected during the last two years.</div>}, {'title': <div class=\"content_title\">NASA to Hold Mars 2020 Perseverance Rover Launch Briefing</div>, 'preview': <div class=\"article_teaser_body\">Learn more about the agency's next Red Planet mission during a live event on June 17.</div>}, {'title': <div class=\"content_title\">InSight's 'Mole' Team Peers into the Pit</div>, 'preview': <div class=\"article_teaser_body\">Efforts to save the heat probe continue.</div>}, {'title': <div class=\"content_title\">Nine Finalists Chosen in NASA's Mars 2020 Rover Naming Contest</div>, 'preview': <div class=\"article_teaser_body\">Nine finalists have been chosen in the essay contest for K-12 students across U.S. to name NASA's next Mars rover. Now you can help by voting for your favorite. </div>}, {'title': <div class=\"content_title\">5 Hidden Gems Are Riding Aboard NASA's Perseverance Rover</div>, 'preview': <div class=\"article_teaser_body\">The symbols, mottos, and small objects added to the agency's newest Mars rover serve a variety of purposes, from functional to decorative.</div>}, {'title': <div class=\"content_title\">Mars InSight Lander to Push on Top of the 'Mole'</div>, 'preview': <div class=\"article_teaser_body\">Engineers have a plan for pushing down on the heat probe, which has been stuck at the Martian surface for a year.</div>}, {'title': <div class=\"content_title\">MOXIE Could Help Future Rockets Launch Off Mars</div>, 'preview': <div class=\"article_teaser_body\">NASA's Perseverance rover carries a device to convert Martian air into oxygen that, if produced on a larger scale, could be used not just for breathing, but also for fuel.</div>}, {'title': <div class=\"content_title\">NASA Mars Mission Connects With Bosnian and Herzegovinian Town</div>, 'preview': <div class=\"article_teaser_body\">A letter from NASA was presented to the mayor of Jezero, Bosnia-Herzegovina, honoring the connection between the town and Jezero Crater, the Mars 2020 rover landing site.</div>}, {'title': <div class=\"content_title\">NASA's Mars 2020 Rover Completes Its First Drive</div>, 'preview': <div class=\"article_teaser_body\">In a 10-plus-hour marathon, the rover steered, turned and drove in 3-foot (1-meter) increments over small ramps.</div>}, {'title': <div class=\"content_title\">NASA Readies Perseverance Mars Rover's Earthly Twin </div>, 'preview': <div class=\"article_teaser_body\">Did you know NASA's next Mars rover has a nearly identical sibling on Earth for testing? Even better, it's about to roll for the first time through a replica Martian landscape.</div>}, {'title': <div class=\"content_title\">7 Things to Know About the Mars 2020 Perseverance Rover Mission</div>, 'preview': <div class=\"article_teaser_body\">NASA's next rover to the Red Planet is slated to launch no earlier than July 30. These highlights will get you up to speed on the ambitious mission.</div>}]\n"
     ]
    }
   ],
   "source": [
    "articles = []\n",
    "\n",
    "for i in range(15):\n",
    "    article = {}\n",
    "    article['title'] = all_titles[i]\n",
    "    article['preview'] = all_previews[i]\n",
    "    articles.append(article)\n",
    "\n",
    "    print(articles)"
   ]
  },
  {
   "cell_type": "code",
   "execution_count": null,
   "id": "a7cfc22d",
   "metadata": {},
   "outputs": [],
   "source": []
  },
  {
   "cell_type": "code",
   "execution_count": null,
   "id": "0c7ba2cd",
   "metadata": {},
   "outputs": [],
   "source": []
  }
 ],
 "metadata": {
  "kernelspec": {
   "display_name": "Python 3 (ipykernel)",
   "language": "python",
   "name": "python3"
  },
  "language_info": {
   "codemirror_mode": {
    "name": "ipython",
    "version": 3
   },
   "file_extension": ".py",
   "mimetype": "text/x-python",
   "name": "python",
   "nbconvert_exporter": "python",
   "pygments_lexer": "ipython3",
   "version": "3.9.12"
  }
 },
 "nbformat": 4,
 "nbformat_minor": 5
}
